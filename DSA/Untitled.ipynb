{
 "cells": [
  {
   "cell_type": "markdown",
   "id": "4ccff07c",
   "metadata": {},
   "source": [
    "# Merge Sort"
   ]
  },
  {
   "cell_type": "code",
   "execution_count": 10,
   "id": "59dd7c84",
   "metadata": {},
   "outputs": [
    {
     "name": "stdout",
     "output_type": "stream",
     "text": [
      "10 27 38 43 \n"
     ]
    }
   ],
   "source": [
    "def merge_sort(arr):\n",
    "    if len(arr) > 1:\n",
    "        \n",
    "        ## Finding the mid of the array\n",
    "        mid = len(arr)//2\n",
    "        \n",
    "        ## Dividing the array elements into 2 halves\n",
    "        left_arr = arr[:mid]\n",
    "        right_arr = arr[mid:]\n",
    "        \n",
    "        ## Use the concept of recursion: Divide the first half\n",
    "        merge_sort(left_arr)\n",
    "        \n",
    "        ## Divide the second half\n",
    "        merge_sort(right_arr)\n",
    "        \n",
    "        i = j = k = 0\n",
    "        \n",
    "        ## Copy the data to temporary arrays left[] and right[]\n",
    "        while i < len(left_arr) and j < len(right_arr):\n",
    "            if left_arr[i] <= right_arr[j]:\n",
    "                arr[k] = left_arr[i]\n",
    "                i = i + 1\n",
    "            else:\n",
    "                arr[k] = right_arr[j]\n",
    "                j = j+1\n",
    "            k = k + 1\n",
    "            \n",
    "        ## Checking if any element was left\n",
    "        while i < len(left_arr):\n",
    "            arr[k] = left_arr[i]\n",
    "            i = i + 1\n",
    "            k = k + 1\n",
    "            \n",
    "        while j < len(right_arr):\n",
    "            arr[k] = right_arr[j]\n",
    "            j = j + 1\n",
    "            k = k + 1\n",
    "            \n",
    "def printarr(arr):\n",
    "    for i in range(len(arr)):\n",
    "        print(arr[i], end = \" \")\n",
    "    print()\n",
    "    \n",
    "arr = [38, 27, 43, 10]\n",
    "merge_sort(arr)\n",
    "printarr(arr)"
   ]
  },
  {
   "cell_type": "markdown",
   "id": "7b2c6b07",
   "metadata": {},
   "source": [
    "# Bucket Sort"
   ]
  },
  {
   "cell_type": "code",
   "execution_count": 13,
   "id": "5764be4a",
   "metadata": {},
   "outputs": [
    {
     "name": "stdout",
     "output_type": "stream",
     "text": [
      "Sorted array: [9, 10, 22, 26, 34, 98]\n"
     ]
    }
   ],
   "source": [
    "def bucket_sort(arr):\n",
    "    ## Calculate the min, max and the bucket range\n",
    "    max_val = max(arr)\n",
    "    min_val = min(arr)\n",
    "    bucket_range = (max_val - min_val) / (len(arr) - 1)\n",
    "    \n",
    "    ## Creating empty buckets as defined by bucket range\n",
    "    buckets = [[] for _ in range(len(arr))]\n",
    "    \n",
    "    ## Adding the numbers to their respective buckets\n",
    "    for num in arr:\n",
    "        index = int((num - min_val) / bucket_range)\n",
    "        buckets[index].append(num)\n",
    "    \n",
    "    ## Sorting the numbers inside the buckets\n",
    "    for i in range(len(arr)):\n",
    "        insertion_sort(buckets[i])\n",
    "        \n",
    "    ## Creating an empty array    \n",
    "    sorted_arr = []\n",
    "    \n",
    "    ## Joining the bucket inorder to get back to the sorted single array\n",
    "    for bucket in buckets:\n",
    "        sorted_arr.extend(bucket)\n",
    "    return sorted_arr\n",
    "\n",
    "\n",
    "### Defining insertion sort for sorting the values inside the buckets\n",
    "def insertion_sort(arr):\n",
    "    for i in range(1, len(arr)):\n",
    "        key = arr[i]\n",
    "        j = i - 1\n",
    "        while j >= 0 and key < arr[j]:\n",
    "            arr[j + 1] = arr[j]\n",
    "            j -= 1\n",
    "        arr[j + 1] = key\n",
    "        \n",
    "        \n",
    "        \n",
    "arr = [10,9,98,22,34,26]\n",
    "sorted_arr = bucket_sort(arr)\n",
    "print(\"Sorted array:\", sorted_arr)"
   ]
  },
  {
   "cell_type": "code",
   "execution_count": null,
   "id": "15b3f152",
   "metadata": {},
   "outputs": [],
   "source": []
  }
 ],
 "metadata": {
  "kernelspec": {
   "display_name": "Python 3 (ipykernel)",
   "language": "python",
   "name": "python3"
  },
  "language_info": {
   "codemirror_mode": {
    "name": "ipython",
    "version": 3
   },
   "file_extension": ".py",
   "mimetype": "text/x-python",
   "name": "python",
   "nbconvert_exporter": "python",
   "pygments_lexer": "ipython3",
   "version": "3.9.16"
  }
 },
 "nbformat": 4,
 "nbformat_minor": 5
}
