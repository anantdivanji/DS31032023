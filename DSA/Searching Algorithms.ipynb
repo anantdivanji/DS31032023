{
 "cells": [
  {
   "cell_type": "markdown",
   "id": "6e41e533",
   "metadata": {},
   "source": [
    "# Linear Search"
   ]
  },
  {
   "cell_type": "code",
   "execution_count": 3,
   "id": "07f35e9e",
   "metadata": {},
   "outputs": [
    {
     "name": "stdout",
     "output_type": "stream",
     "text": [
      "target 6 found at index location 7.\n"
     ]
    }
   ],
   "source": [
    "def linear_search(arr, target):\n",
    "    for i in range(len(arr)):\n",
    "        if arr[i] == target:\n",
    "            return i\n",
    "    return -1\n",
    "\n",
    "\n",
    "my_list = [3, 1, 4, 1, 5, 9, 2, 6, 5, 3, 5]\n",
    "target_value = 6\n",
    "result = linear_search(my_list, target_value)\n",
    "\n",
    "if result != -1:\n",
    "    print(f'target {target_value} found at index location {result}.')\n",
    "else:\n",
    "    print(f'target {target_value} not found in the list')"
   ]
  },
  {
   "cell_type": "markdown",
   "id": "a6baf90c",
   "metadata": {},
   "source": [
    "# Binary Search"
   ]
  },
  {
   "cell_type": "code",
   "execution_count": 4,
   "id": "8845bee4",
   "metadata": {},
   "outputs": [
    {
     "name": "stdout",
     "output_type": "stream",
     "text": [
      "target 6 found at index location 4.\n"
     ]
    }
   ],
   "source": [
    "def binary_search(sorted_list, target):\n",
    "    start_ind = 0\n",
    "    end_ind = len(sorted_list) - 1\n",
    "    \n",
    "    while start_ind <= end_ind:\n",
    "        mid_ind = (start_ind + end_ind) // 2\n",
    "        if sorted_list[mid_ind] == target:\n",
    "            return mid_ind\n",
    "        elif sorted_list[mid_ind] < target:\n",
    "            start_ind = mid_ind + 1\n",
    "        else:\n",
    "            end_ind = mid_ind - 1\n",
    "    return -1\n",
    "\n",
    "my_list = [1, 3, 4, 5, 6, 9, 11, 15, 18, 20]\n",
    "target_value = 6\n",
    "result = binary_search(my_list, target_value)\n",
    "\n",
    "if result != -1:\n",
    "    print(f'target {target_value} found at index location {result}.')\n",
    "else:\n",
    "    print(f'target {target_value} not found in the list')"
   ]
  },
  {
   "cell_type": "markdown",
   "id": "8e8acc0d",
   "metadata": {},
   "source": [
    "# Sorting Algorithms :\n",
    "\n",
    "1. Bubble Sort\n",
    "2. Selection Sort\n",
    "3. Insertion Sort"
   ]
  },
  {
   "cell_type": "markdown",
   "id": "1ba2bd64",
   "metadata": {},
   "source": [
    "## Swapping the nos inside a list"
   ]
  },
  {
   "cell_type": "code",
   "execution_count": 5,
   "id": "d110a971",
   "metadata": {},
   "outputs": [
    {
     "name": "stdout",
     "output_type": "stream",
     "text": [
      "[5, 10]\n"
     ]
    }
   ],
   "source": [
    "lst = [10, 5]   ## Sort the list\n",
    "if lst[0] > lst[1]:\n",
    "    temp = lst[0]\n",
    "    lst[0]  = lst[1]\n",
    "    lst[1] = temp\n",
    "print(lst)"
   ]
  },
  {
   "cell_type": "code",
   "execution_count": 7,
   "id": "8cc289af",
   "metadata": {},
   "outputs": [
    {
     "name": "stdout",
     "output_type": "stream",
     "text": [
      "[25, 50]\n"
     ]
    }
   ],
   "source": [
    "lst = [50, 25]\n",
    "if lst[0] > lst[1]:\n",
    "    lst[0], lst[1] = lst[1], lst[0]\n",
    "    \n",
    "print(lst)"
   ]
  },
  {
   "cell_type": "code",
   "execution_count": 8,
   "id": "ea133af8",
   "metadata": {},
   "outputs": [],
   "source": [
    "a = 10\n",
    "b = 20\n",
    "\n",
    "a, b = b, a"
   ]
  },
  {
   "cell_type": "code",
   "execution_count": 9,
   "id": "bd19ff2e",
   "metadata": {},
   "outputs": [
    {
     "data": {
      "text/plain": [
       "20"
      ]
     },
     "execution_count": 9,
     "metadata": {},
     "output_type": "execute_result"
    }
   ],
   "source": [
    "a"
   ]
  },
  {
   "cell_type": "code",
   "execution_count": 10,
   "id": "79f90143",
   "metadata": {},
   "outputs": [
    {
     "data": {
      "text/plain": [
       "10"
      ]
     },
     "execution_count": 10,
     "metadata": {},
     "output_type": "execute_result"
    }
   ],
   "source": [
    "b"
   ]
  },
  {
   "cell_type": "code",
   "execution_count": 11,
   "id": "5d64d1df",
   "metadata": {},
   "outputs": [
    {
     "name": "stdout",
     "output_type": "stream",
     "text": [
      "[11, 12, 22, 25, 34, 64, 90]\n"
     ]
    }
   ],
   "source": [
    "def bubble_sort(lst):\n",
    "    for i in range(len(lst), 1, -1):\n",
    "        for j in range(0, i - 1):\n",
    "            if lst[j] > lst[j+1]:\n",
    "                lst[j], lst[j+1] = lst[j+1], lst[j]\n",
    "            else:\n",
    "                pass\n",
    "    print(lst)\n",
    "    \n",
    "bubble_sort([64, 34, 25, 12, 22, 11, 90])"
   ]
  },
  {
   "cell_type": "code",
   "execution_count": 13,
   "id": "52476b30",
   "metadata": {},
   "outputs": [
    {
     "name": "stdout",
     "output_type": "stream",
     "text": [
      "[2, 3, 3, 5, 9, 17, 21]\n"
     ]
    }
   ],
   "source": [
    "def selection_sort(lst):\n",
    "    for i in range(len(lst)-1):\n",
    "        for j in range(i+1, len(lst)):\n",
    "            if lst[j] < lst[i]:\n",
    "                lst[i], lst[j] = lst[j], lst[i]\n",
    "    print(lst)\n",
    "    \n",
    "selection_sort([17, 3, 9, 2, 21, 3, 5])"
   ]
  },
  {
   "cell_type": "markdown",
   "id": "48d90f54",
   "metadata": {},
   "source": [
    "## Insertion Sort"
   ]
  },
  {
   "cell_type": "code",
   "execution_count": 1,
   "id": "c446def5",
   "metadata": {},
   "outputs": [
    {
     "name": "stdout",
     "output_type": "stream",
     "text": [
      "[5, 19, 22, 34, 42, 54]\n"
     ]
    }
   ],
   "source": [
    "lst = [34, 42, 22, 54, 19, 5]\n",
    "\n",
    "for i in range(1, len(lst)):\n",
    "    while lst[i - 1] > lst[i] and i > 0:\n",
    "        lst[i-1], lst[i] = lst[i], lst[i-1]\n",
    "        i = i-1\n",
    "        \n",
    "print(lst)"
   ]
  },
  {
   "cell_type": "code",
   "execution_count": null,
   "id": "03e95e2b",
   "metadata": {},
   "outputs": [],
   "source": []
  }
 ],
 "metadata": {
  "kernelspec": {
   "display_name": "Python 3 (ipykernel)",
   "language": "python",
   "name": "python3"
  },
  "language_info": {
   "codemirror_mode": {
    "name": "ipython",
    "version": 3
   },
   "file_extension": ".py",
   "mimetype": "text/x-python",
   "name": "python",
   "nbconvert_exporter": "python",
   "pygments_lexer": "ipython3",
   "version": "3.9.16"
  }
 },
 "nbformat": 4,
 "nbformat_minor": 5
}
