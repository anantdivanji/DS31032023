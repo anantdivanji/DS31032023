{
 "cells": [
  {
   "cell_type": "markdown",
   "id": "279c334d",
   "metadata": {},
   "source": [
    "# Recursion:\n",
    "\n",
    "- The repetation of same process again and again is called as Recursion\n",
    "\n",
    "- The Key components of a recursion are :\n",
    "\n",
    "1. Base condition : A recursive function must have one or more bases conditions or cases. These are conditions under which the function stops calling itself and returns a result directly. Base cases are essential to prevent infinite recursion and ensure that the recursion terminates.\n",
    "\n",
    "2. Recursive Case: The recursive function also has one or more recursive cases, which define how the problem is broken down into smaller subproblems. In the recursive case, the function calls itself with modified inputs, moving closer to the base case with each recursive call.\n",
    "\n",
    "3. Divide and conquer : A complex problem is divided into smaller, similar subproblems. Each subproblem is solved independently using the same recursive function and the result of all the smaller problems are then combined to get the result of the bigger problem"
   ]
  },
  {
   "cell_type": "code",
   "execution_count": 2,
   "id": "a7770824",
   "metadata": {},
   "outputs": [
    {
     "name": "stdout",
     "output_type": "stream",
     "text": [
      "5\n",
      "120\n"
     ]
    }
   ],
   "source": [
    "def factorial(n):\n",
    "    ## Base case : factorial of 0 or 1 is 1\n",
    "    if n == 0 or n == 1:\n",
    "        return 1\n",
    "    \n",
    "    ## Recursive case: n! = n * (n-1)!\n",
    "    else:\n",
    "        return n * factorial(n-1)\n",
    "    \n",
    "n = int(input())\n",
    "print(factorial(n))"
   ]
  },
  {
   "cell_type": "code",
   "execution_count": 1,
   "id": "20b922ed",
   "metadata": {},
   "outputs": [
    {
     "name": "stdout",
     "output_type": "stream",
     "text": [
      "10\n",
      "9\n",
      "8\n",
      "7\n",
      "6\n",
      "5\n",
      "4\n",
      "3\n",
      "2\n",
      "1\n",
      "0\n"
     ]
    }
   ],
   "source": [
    "i = 10\n",
    "while i >= 0:\n",
    "    print(i)\n",
    "    i = i - 1"
   ]
  },
  {
   "cell_type": "code",
   "execution_count": 4,
   "id": "e120fdfc",
   "metadata": {},
   "outputs": [
    {
     "name": "stdout",
     "output_type": "stream",
     "text": [
      "[3, 9, 10, 27, 38, 43, 82]\n"
     ]
    }
   ],
   "source": [
    "def quick_sort(arr):\n",
    "    if len(arr) <=1:\n",
    "        return arr      ### Base case : an array with 0 or 1 element is already sorted\n",
    "    \n",
    "    pivot = arr[len(arr) - 1]    ## Chose the pivot [Assumed pivot value](often the first or last element)\n",
    "    left = []\n",
    "    right = []\n",
    "    \n",
    "    ## Partition the array into two sub arrays: elements less than pivot and elements greater than pivot\n",
    "    for element in arr[:-1]:\n",
    "        if element <= pivot:\n",
    "            left.append(element)\n",
    "        else:\n",
    "            right.append(element)\n",
    "            \n",
    "    \n",
    "    ## REcursively apply quick sort to the left and the right sub arrays\n",
    "    \n",
    "    left = quick_sort(left)\n",
    "    right = quick_sort(right)\n",
    "    \n",
    "    \n",
    "    ## Combine the sorted sub arrays and the pivot\n",
    "    return left + [pivot] + right\n",
    "\n",
    "my_list = [38, 27, 43, 3, 9, 82, 10]\n",
    "sorted_list = quick_sort(my_list)\n",
    "print(sorted_list)"
   ]
  },
  {
   "cell_type": "markdown",
   "id": "23d20876",
   "metadata": {},
   "source": [
    "# Bucket Sort"
   ]
  },
  {
   "cell_type": "code",
   "execution_count": 6,
   "id": "4ed41470",
   "metadata": {},
   "outputs": [
    {
     "ename": "IndexError",
     "evalue": "list index out of range",
     "output_type": "error",
     "traceback": [
      "\u001b[1;31m---------------------------------------------------------------------------\u001b[0m",
      "\u001b[1;31mIndexError\u001b[0m                                Traceback (most recent call last)",
      "Cell \u001b[1;32mIn[6], line 32\u001b[0m\n\u001b[0;32m     29\u001b[0m     \u001b[38;5;28;01mreturn\u001b[39;00m sorted_arr\n\u001b[0;32m     31\u001b[0m my_list \u001b[38;5;241m=\u001b[39m [\u001b[38;5;241m0.42\u001b[39m, \u001b[38;5;241m0.32\u001b[39m, \u001b[38;5;241m0.33\u001b[39m, \u001b[38;5;241m0.52\u001b[39m, \u001b[38;5;241m0.37\u001b[39m, \u001b[38;5;241m0.47\u001b[39m, \u001b[38;5;241m0.51\u001b[39m]\n\u001b[1;32m---> 32\u001b[0m sorted_list \u001b[38;5;241m=\u001b[39m \u001b[43mbucket_sort\u001b[49m\u001b[43m(\u001b[49m\u001b[43mmy_list\u001b[49m\u001b[43m)\u001b[49m\n\u001b[0;32m     33\u001b[0m \u001b[38;5;28mprint\u001b[39m(sorted_list)\n",
      "Cell \u001b[1;32mIn[6], line 15\u001b[0m, in \u001b[0;36mbucket_sort\u001b[1;34m(arr)\u001b[0m\n\u001b[0;32m     13\u001b[0m \u001b[38;5;28;01mfor\u001b[39;00m element \u001b[38;5;129;01min\u001b[39;00m arr:\n\u001b[0;32m     14\u001b[0m     bucket_index \u001b[38;5;241m=\u001b[39m \u001b[38;5;28mint\u001b[39m((element \u001b[38;5;241m-\u001b[39m min_val) \u001b[38;5;241m/\u001b[39m bucket_range)\n\u001b[1;32m---> 15\u001b[0m     \u001b[43mbuckets\u001b[49m\u001b[43m[\u001b[49m\u001b[43mbucket_index\u001b[49m\u001b[43m]\u001b[49m\u001b[38;5;241m.\u001b[39mappend(element)\n\u001b[0;32m     18\u001b[0m \u001b[38;5;66;03m## Sort the elements inside each bucket (for sorting inside the bucket we will be taking help or insertion \u001b[39;00m\n\u001b[0;32m     19\u001b[0m \u001b[38;5;66;03m## sort for this example)\u001b[39;00m\n\u001b[0;32m     21\u001b[0m \u001b[38;5;28;01mfor\u001b[39;00m i \u001b[38;5;129;01min\u001b[39;00m \u001b[38;5;28mrange\u001b[39m(\u001b[38;5;28mlen\u001b[39m(buckets)):\n",
      "\u001b[1;31mIndexError\u001b[0m: list index out of range"
     ]
    }
   ],
   "source": [
    "def bucket_sort(arr):\n",
    "    ## Determine the min and the max value or the array\n",
    "    max_val = max(arr)\n",
    "    min_val = min(arr)\n",
    "    \n",
    "    ## Calculate the range of the each bucket\n",
    "    bucket_range = (max_val - min_val) / len(arr)\n",
    "    \n",
    "    ## Create the empty buckets\n",
    "    buckets = [[] for _ in range(len(arr))]\n",
    "    \n",
    "    ## Distribute the elements of the array into the buckets\n",
    "    for element in arr:\n",
    "        bucket_index = int((element - min_val) / bucket_range)\n",
    "        buckets[bucket_index].append(element)\n",
    "        \n",
    "        \n",
    "    ## Sort the elements inside each bucket (for sorting inside the bucket we will be taking help or insertion \n",
    "    ## sort for this example)\n",
    "    \n",
    "    for i in range(len(buckets)):\n",
    "        buckets[i] = sorted(buckets[i])\n",
    "        \n",
    "    ## Concatenate each of the sorted buckets to obtain the final sorted list \n",
    "    sorted_arr = []\n",
    "    for bucket in buckets:\n",
    "        sorted_arr.extend(bucket)\n",
    "    \n",
    "    return sorted_arr\n",
    "\n",
    "my_list = [0.42, 0.32, 0.33, 0.52, 0.37, 0.47, 0.51]\n",
    "sorted_list = bucket_sort(my_list)\n",
    "print(sorted_list)"
   ]
  },
  {
   "cell_type": "code",
   "execution_count": null,
   "id": "4f69b982",
   "metadata": {},
   "outputs": [],
   "source": []
  }
 ],
 "metadata": {
  "kernelspec": {
   "display_name": "Python 3 (ipykernel)",
   "language": "python",
   "name": "python3"
  },
  "language_info": {
   "codemirror_mode": {
    "name": "ipython",
    "version": 3
   },
   "file_extension": ".py",
   "mimetype": "text/x-python",
   "name": "python",
   "nbconvert_exporter": "python",
   "pygments_lexer": "ipython3",
   "version": "3.9.16"
  }
 },
 "nbformat": 4,
 "nbformat_minor": 5
}
