{
 "cells": [
  {
   "cell_type": "markdown",
   "id": "d854958f",
   "metadata": {},
   "source": [
    "# Pre Order Traversal"
   ]
  },
  {
   "cell_type": "code",
   "execution_count": 2,
   "id": "eb37c14b",
   "metadata": {},
   "outputs": [
    {
     "name": "stdout",
     "output_type": "stream",
     "text": [
      "Preorder traversal of binary tree is :\n",
      "1 2 4 5 3 6 "
     ]
    }
   ],
   "source": [
    "## Structure of the binary Tree Nodes\n",
    "class Node:\n",
    "    def __init__(self, v):\n",
    "        self.data = v\n",
    "        self.left = None\n",
    "        self.right = None\n",
    "    \n",
    "## Function for printing the preorder traversal\n",
    "\n",
    "def printPreorder(node):\n",
    "    ## Base Condition for recursion\n",
    "    if node is None:\n",
    "        return\n",
    "    \n",
    "    ## Deal with the node\n",
    "    print(node.data, end = ' ')\n",
    "    \n",
    "    \n",
    "    ## Recursion on the left subtree\n",
    "    printPreorder(node.left)\n",
    "    \n",
    "    ## Recursion on the right subtree\n",
    "    printPreorder(node.right)\n",
    "    \n",
    "    \n",
    "## Driver Code\n",
    "if __name__ == '__main__':\n",
    "    root = Node(1)\n",
    "    root.left = Node(2)\n",
    "    root.right = Node(3)\n",
    "    root.left.left = Node(4)\n",
    "    root.left.right = Node(5)\n",
    "    root.right.right = Node(6)\n",
    "    \n",
    "    \n",
    "    ## Function call\n",
    "    print('Preorder traversal of binary tree is :')\n",
    "    printPreorder(root)"
   ]
  },
  {
   "cell_type": "markdown",
   "id": "3634cbd9",
   "metadata": {},
   "source": [
    "# post Order Traversal"
   ]
  },
  {
   "cell_type": "code",
   "execution_count": 4,
   "id": "cc89caa0",
   "metadata": {},
   "outputs": [
    {
     "name": "stdout",
     "output_type": "stream",
     "text": [
      "Postorder traversal of binary tree is :\n",
      "4 5 2 6 3 1 "
     ]
    }
   ],
   "source": [
    "## Structure of the binary Tree Nodes\n",
    "class Node:\n",
    "    def __init__(self, v):\n",
    "        self.data = v\n",
    "        self.left = None\n",
    "        self.right = None\n",
    "    \n",
    "## Function for printing the preorder traversal\n",
    "\n",
    "def printPostorder(node):\n",
    "    ## Base Condition for recursion\n",
    "    if node is None:\n",
    "        return\n",
    "    \n",
    "    \n",
    "    ## Recursion on the left subtree\n",
    "    printPostorder(node.left)\n",
    "    \n",
    "    ## Recursion on the right subtree\n",
    "    printPostorder(node.right)\n",
    "    \n",
    "    ## Deal with the node\n",
    "    print(node.data, end = ' ')\n",
    "    \n",
    "    \n",
    "## Driver Code\n",
    "if __name__ == '__main__':\n",
    "    root = Node(1)\n",
    "    root.left = Node(2)\n",
    "    root.right = Node(3)\n",
    "    root.left.left = Node(4)\n",
    "    root.left.right = Node(5)\n",
    "    root.right.right = Node(6)\n",
    "    \n",
    "    \n",
    "    ## Function call\n",
    "    print('Postorder traversal of binary tree is :')\n",
    "    printPostorder(root)"
   ]
  },
  {
   "cell_type": "markdown",
   "id": "8d528d28",
   "metadata": {},
   "source": [
    "# In Order Traversal"
   ]
  },
  {
   "cell_type": "code",
   "execution_count": 5,
   "id": "4c8ade01",
   "metadata": {},
   "outputs": [
    {
     "name": "stdout",
     "output_type": "stream",
     "text": [
      "Postorder traversal of binary tree is :\n",
      "4 2 5 1 3 6 "
     ]
    }
   ],
   "source": [
    "## Structure of the binary Tree Nodes\n",
    "class Node:\n",
    "    def __init__(self, v):\n",
    "        self.data = v\n",
    "        self.left = None\n",
    "        self.right = None\n",
    "    \n",
    "## Function for printing the preorder traversal\n",
    "\n",
    "def printInorder(node):\n",
    "    ## Base Condition for recursion\n",
    "    if node is None:\n",
    "        return\n",
    "    \n",
    "    \n",
    "    ## Recursion on the left subtree\n",
    "    printInorder(node.left)\n",
    "    \n",
    "    ## Deal with the node\n",
    "    print(node.data, end = ' ')\n",
    "    \n",
    "    ## Recursion on the right subtree\n",
    "    printInorder(node.right)\n",
    "    \n",
    "    \n",
    "## Driver Code\n",
    "if __name__ == '__main__':\n",
    "    root = Node(1)\n",
    "    root.left = Node(2)\n",
    "    root.right = Node(3)\n",
    "    root.left.left = Node(4)\n",
    "    root.left.right = Node(5)\n",
    "    root.right.right = Node(6)\n",
    "    \n",
    "    \n",
    "    ## Function call\n",
    "    print('Postorder traversal of binary tree is :')\n",
    "    printInorder(root)"
   ]
  },
  {
   "cell_type": "code",
   "execution_count": null,
   "id": "305818d8",
   "metadata": {},
   "outputs": [],
   "source": []
  }
 ],
 "metadata": {
  "kernelspec": {
   "display_name": "Python 3 (ipykernel)",
   "language": "python",
   "name": "python3"
  },
  "language_info": {
   "codemirror_mode": {
    "name": "ipython",
    "version": 3
   },
   "file_extension": ".py",
   "mimetype": "text/x-python",
   "name": "python",
   "nbconvert_exporter": "python",
   "pygments_lexer": "ipython3",
   "version": "3.9.16"
  }
 },
 "nbformat": 4,
 "nbformat_minor": 5
}
