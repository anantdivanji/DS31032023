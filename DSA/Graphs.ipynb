{
 "cells": [
  {
   "cell_type": "markdown",
   "id": "839002e6",
   "metadata": {},
   "source": [
    "# BFS - Breadth First Search"
   ]
  },
  {
   "cell_type": "code",
   "execution_count": 2,
   "id": "43939f5b",
   "metadata": {},
   "outputs": [
    {
     "ename": "AttributeError",
     "evalue": "'Graph' object has no attribute 'addEdge'",
     "output_type": "error",
     "traceback": [
      "\u001b[1;31m---------------------------------------------------------------------------\u001b[0m",
      "\u001b[1;31mAttributeError\u001b[0m                            Traceback (most recent call last)",
      "Cell \u001b[1;32mIn[2], line 42\u001b[0m\n\u001b[0;32m     39\u001b[0m \u001b[38;5;28;01mif\u001b[39;00m \u001b[38;5;18m__name__\u001b[39m \u001b[38;5;241m==\u001b[39m \u001b[38;5;124m'\u001b[39m\u001b[38;5;124m__main__\u001b[39m\u001b[38;5;124m'\u001b[39m:\n\u001b[0;32m     40\u001b[0m     \u001b[38;5;66;03m## Create a graph\u001b[39;00m\n\u001b[0;32m     41\u001b[0m     g \u001b[38;5;241m=\u001b[39m Graph()\n\u001b[1;32m---> 42\u001b[0m     \u001b[43mg\u001b[49m\u001b[38;5;241;43m.\u001b[39;49m\u001b[43maddEdge\u001b[49m(\u001b[38;5;241m0\u001b[39m, \u001b[38;5;241m1\u001b[39m)\n\u001b[0;32m     43\u001b[0m     g\u001b[38;5;241m.\u001b[39maddEdge(\u001b[38;5;241m0\u001b[39m, \u001b[38;5;241m2\u001b[39m)\n\u001b[0;32m     44\u001b[0m     g\u001b[38;5;241m.\u001b[39maddEdge(\u001b[38;5;241m1\u001b[39m, \u001b[38;5;241m2\u001b[39m)\n",
      "\u001b[1;31mAttributeError\u001b[0m: 'Graph' object has no attribute 'addEdge'"
     ]
    }
   ],
   "source": [
    "from collections import defaultdict\n",
    "\n",
    "## Create a Class Graph to represent the directed graph\n",
    "class Graph:\n",
    "    def __init__(self):\n",
    "        self.graph = defaultdict(list)\n",
    "        \n",
    "        #Function to add an edge to the graph\n",
    "        def addEdge(self, u, v):\n",
    "            self.graph[u].append(v)\n",
    "            \n",
    "        ## Function to print a BFS of the graph\n",
    "        def BFS(self, s):\n",
    "            \n",
    "            ## Mark all the vertices as not visited\n",
    "            queue1 = [False] * (max(self.graph) + 1)\n",
    "            \n",
    "            ## Create a queue for BFS\n",
    "            queue2 = []\n",
    "            \n",
    "            \n",
    "            ## Mark the source node as visited and enqueue it\n",
    "            queue2.append(s)\n",
    "            queue1[s] = True\n",
    "            \n",
    "            ## Dequeue a vertex from the queue2 and print it\n",
    "            s = queue2.pop(0)\n",
    "            print(s, end = \" \")\n",
    "            \n",
    "            ## Get all the adjacent vertices of the dequeued vertex s.\n",
    "            ## If an adjacent has not been visited, then mark it as visited and enqueue it\n",
    "            for i in self.graph[s]:\n",
    "                if queue1[i] == False:\n",
    "                    queue2.append(i)\n",
    "                    queue1[i] = True\n",
    "                    \n",
    "    \n",
    "## Driver Code\n",
    "if __name__ == '__main__':\n",
    "    ## Create a graph\n",
    "    g = Graph()\n",
    "    g.addEdge(0, 1)\n",
    "    g.addEdge(0, 2)\n",
    "    g.addEdge(1, 2)\n",
    "    g.addEdge(2, 0)\n",
    "    g.addEdge(2, 3)\n",
    "    g.addEdge(3, 3)\n",
    "    \n",
    "    print('Following is BFS(starting at node 2)')\n",
    "    g.BFS(2)"
   ]
  },
  {
   "cell_type": "code",
   "execution_count": 3,
   "id": "1be3e96c",
   "metadata": {},
   "outputs": [
    {
     "name": "stdout",
     "output_type": "stream",
     "text": [
      "Following is Breadth First Traversal: \n",
      "0 1 2 3 "
     ]
    }
   ],
   "source": [
    "import collections\n",
    "\n",
    "# BFS algorithm\n",
    "def bfs(graph, root):\n",
    "\n",
    "    visited, queue = set(), collections.deque([root])\n",
    "    visited.add(root)\n",
    "\n",
    "    while queue:\n",
    "\n",
    "        # Dequeue a vertex from queue\n",
    "        vertex = queue.popleft()\n",
    "        print(str(vertex) + \" \", end=\"\")\n",
    "\n",
    "        # If not visited, mark it as visited, and\n",
    "        # enqueue it\n",
    "        for neighbour in graph[vertex]:\n",
    "            if neighbour not in visited:\n",
    "                visited.add(neighbour)\n",
    "                queue.append(neighbour)\n",
    "\n",
    "\n",
    "if __name__ == '__main__':\n",
    "    graph = {0: [1, 2], 1: [2], 2: [3], 3: [1, 2]}\n",
    "    print(\"Following is Breadth First Traversal: \")\n",
    "    bfs(graph, 0)"
   ]
  },
  {
   "cell_type": "markdown",
   "id": "bc69cf01",
   "metadata": {},
   "source": [
    "# DFS"
   ]
  },
  {
   "cell_type": "code",
   "execution_count": 4,
   "id": "793e9b01",
   "metadata": {},
   "outputs": [
    {
     "name": "stdout",
     "output_type": "stream",
     "text": [
      "0\n",
      "2\n",
      "1\n",
      "4\n",
      "3\n",
      "3\n"
     ]
    },
    {
     "data": {
      "text/plain": [
       "{'0', '1', '2', '3', '4'}"
      ]
     },
     "execution_count": 4,
     "metadata": {},
     "output_type": "execute_result"
    }
   ],
   "source": [
    "def dfs(graph, start, visited = None):\n",
    "    if visited is None:\n",
    "        visited = set()\n",
    "    visited.add(start)\n",
    "    \n",
    "    print(start)\n",
    "    \n",
    "    for next in graph[start] - visited:\n",
    "        dfs(graph, next, visited)\n",
    "    return visited\n",
    "\n",
    "graph = {'0' : set(['1', '2']),\n",
    "         '1' : set(['0', '3', '4']),\n",
    "         '2' : set(['0']),\n",
    "         '3' : set(['1']),\n",
    "         '4' : set(['2', '3']),\n",
    "        }\n",
    "dfs(graph, '0')"
   ]
  },
  {
   "cell_type": "markdown",
   "id": "e09ec647",
   "metadata": {},
   "source": [
    "## \n",
    "- Using Graphs we will be creating a program to represent and visualize a graph data structure,\n",
    "perform basic operations on it, and find certain properties of the graph. In this example, i will be using the NetworkX library for working with graphs and Matplotlib library for visualization. "
   ]
  },
  {
   "cell_type": "code",
   "execution_count": 6,
   "id": "c4c8cc48",
   "metadata": {},
   "outputs": [
    {
     "name": "stdout",
     "output_type": "stream",
     "text": [
      "Requirement already satisfied: networkx in c:\\users\\amant\\anaconda3\\lib\\site-packages (2.8.4)\n"
     ]
    },
    {
     "name": "stderr",
     "output_type": "stream",
     "text": [
      "Error processing line 3 of C:\\Users\\AMANT\\anaconda3\\lib\\site-packages\\googleapis_common_protos-1.56.4-py3.10-nspkg.pth:\n",
      "\n",
      "  Traceback (most recent call last):\n",
      "    File \"C:\\Users\\AMANT\\anaconda3\\lib\\site.py\", line 169, in addpackage\n",
      "      exec(line)\n",
      "    File \"<string>\", line 1, in <module>\n",
      "    File \"<frozen importlib._bootstrap>\", line 562, in module_from_spec\n",
      "  AttributeError: 'NoneType' object has no attribute 'loader'\n",
      "\n",
      "Remainder of file ignored\n"
     ]
    }
   ],
   "source": [
    "!pip install networkx"
   ]
  },
  {
   "cell_type": "code",
   "execution_count": 10,
   "id": "b7ed43af",
   "metadata": {},
   "outputs": [
    {
     "name": "stdout",
     "output_type": "stream",
     "text": [
      "Number of nodes: 4\n",
      "Number of edges: 4\n",
      "Is the graph connected? True\n"
     ]
    },
    {
     "data": {
      "image/png": "[encoded data removed]",
      "text/plain": [
       "<Figure size 640x480 with 1 Axes>"
      ]
     },
     "metadata": {},
     "output_type": "display_data"
    }
   ],
   "source": [
    "import networkx as nx\n",
    "import matplotlib.pyplot as plt\n",
    "\n",
    "#Create an empty undirected graph\n",
    "G = nx.Graph()\n",
    "\n",
    "## Add nodes to the graph\n",
    "G.add_node(\"A\")\n",
    "G.add_node(\"B\")\n",
    "G.add_node(\"C\")\n",
    "G.add_node(\"D\")\n",
    "\n",
    "# Add edges to the graph\n",
    "G.add_edge(\"A\", \"B\")\n",
    "G.add_edge(\"B\", \"C\")\n",
    "G.add_edge(\"C\", \"D\")\n",
    "G.add_edge(\"D\", \"A\")\n",
    "\n",
    "## Print basic graph properties\n",
    "print(\"Number of nodes:\", G.number_of_nodes())\n",
    "print(\"Number of edges:\", G.number_of_edges())\n",
    "\n",
    "## Check whether the graph is connected or not\n",
    "print(\"Is the graph connected?\", nx.is_connected(G))\n",
    "\n",
    "## Visualize the graph\n",
    "pos = nx.spring_layout(G)   ## Postion nodes uisng a spring layout\n",
    "nx.draw_networkx(G, pos, with_labels = True, node_size = 500, node_color = 'lightblue', \n",
    "        font_size = 12, font_color = \"black\")\n",
    "plt.title(\"Simple Graph\")\n",
    "plt.show()"
   ]
  },
  {
   "cell_type": "code",
   "execution_count": 11,
   "id": "348363eb",
   "metadata": {},
   "outputs": [
    {
     "name": "stdout",
     "output_type": "stream",
     "text": [
      "Object `networkx` not found.\n"
     ]
    }
   ],
   "source": [
    "?networkx"
   ]
  },
  {
   "cell_type": "code",
   "execution_count": 13,
   "id": "105b1ceb",
   "metadata": {},
   "outputs": [
    {
     "data": {
      "text/plain": [
       "['A', 'B', 'D']"
      ]
     },
     "execution_count": 13,
     "metadata": {},
     "output_type": "execute_result"
    }
   ],
   "source": [
    "import networkx as nx\n",
    "G = nx.Graph()\n",
    "G.add_edge(\"A\", \"B\", weight=4)\n",
    "G.add_edge(\"B\", \"D\", weight=2)\n",
    "G.add_edge(\"A\", \"C\", weight=3)\n",
    "G.add_edge(\"C\", \"D\", weight=4)\n",
    "nx.shortest_path(G, \"A\", \"D\", weight=\"weight\")"
   ]
  },
  {
   "cell_type": "markdown",
   "id": "3c54d964",
   "metadata": {},
   "source": [
    "## Notes:\n",
    "In this project,\n",
    "\n",
    "1. We created an empty undirected graph using NetworkX.\n",
    "2. We added nodes(\"A\", \"B\", \"C\", \"D\") to the graph.\n",
    "3. We added the edges to connect the nodes, creating a simple cyclic graph.\n",
    "4. We print the basic properties of the graph, such as the number of nodes and edges, and check if it is connected.\n",
    "5. We visualize the graph using Matplotlib library\n",
    "\n",
    "Graphs are used in various applications such as social network analysis, routing algorithms and recommendation systems, so there are many possibilities for creating more complex projects using Graphs"
   ]
  },
  {
   "cell_type": "code",
   "execution_count": null,
   "id": "132cce55",
   "metadata": {},
   "outputs": [],
   "source": []
  }
 ],
 "metadata": {
  "kernelspec": {
   "display_name": "Python 3 (ipykernel)",
   "language": "python",
   "name": "python3"
  },
  "language_info": {
   "codemirror_mode": {
    "name": "ipython",
    "version": 3
   },
   "file_extension": ".py",
   "mimetype": "text/x-python",
   "name": "python",
   "nbconvert_exporter": "python",
   "pygments_lexer": "ipython3",
   "version": "3.9.16"
  }
 },
 "nbformat": 4,
 "nbformat_minor": 5
}
