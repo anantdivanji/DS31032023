{
 "cells": [
  {
   "cell_type": "code",
   "execution_count": 1,
   "id": "33cb9630",
   "metadata": {},
   "outputs": [],
   "source": [
    "import pandas as pd\n",
    "import numpy as np"
   ]
  },
  {
   "cell_type": "code",
   "execution_count": 5,
   "id": "cda440d4",
   "metadata": {},
   "outputs": [
    {
     "data": {
      "text/plain": [
       "'It is an truth universally acknowledged that a single man in possession of a good fortune must be in want of a good wife'"
      ]
     },
     "execution_count": 5,
     "metadata": {},
     "output_type": "execute_result"
    }
   ],
   "source": [
    "text = 'It is an truth universally acknowledged that a single man in possession of a good fortune must be in want of a good wife'\n",
    "text"
   ]
  },
  {
   "cell_type": "markdown",
   "id": "7fa8099e",
   "metadata": {},
   "source": [
    "## Word Tokenization is used to extract every word from the data and all these words are displayed in the output Every word displayed are called tokens"
   ]
  },
  {
   "cell_type": "code",
   "execution_count": 8,
   "id": "32a3fc24",
   "metadata": {},
   "outputs": [
    {
     "name": "stdout",
     "output_type": "stream",
     "text": [
      "['It', 'is', 'an', 'truth', 'universally', 'acknowledged', 'that', 'a', 'single', 'man', 'in', 'possession', 'of', 'a', 'good', 'fortune', 'must', 'be', 'in', 'want', 'of', 'a', 'good', 'wife']\n",
      "{'acknowledged', 'It', 'man', 'a', 'of', 'is', 'in', 'universally', 'single', 'possession', 'good', 'fortune', 'must', 'want', 'that', 'wife', 'an', 'be', 'truth'}\n"
     ]
    }
   ],
   "source": [
    "from nltk.tokenize import word_tokenize\n",
    "text_tokenized = word_tokenize(text)\n",
    "print(text_tokenized)\n",
    "\n",
    "print(set(text_tokenized))"
   ]
  },
  {
   "cell_type": "markdown",
   "id": "27e8f3a7",
   "metadata": {},
   "source": [
    "- Word tokenization in short only extract words which become tokens\n",
    "- set() on the tokenized output gives the complete set of unique words "
   ]
  },
  {
   "cell_type": "code",
   "execution_count": 11,
   "id": "fccf405c",
   "metadata": {},
   "outputs": [
    {
     "data": {
      "text/plain": [
       "'This is an NLP session. This is an NLP session. NLP is a nice area of research. I am learning to analyze text data'"
      ]
     },
     "execution_count": 11,
     "metadata": {},
     "output_type": "execute_result"
    }
   ],
   "source": [
    "text2 = 'This is an NLP session. This is an NLP session. NLP is a nice area of research. I am learning to analyze text data'\n",
    "text2"
   ]
  },
  {
   "cell_type": "code",
   "execution_count": 12,
   "id": "316c5fc0",
   "metadata": {},
   "outputs": [
    {
     "data": {
      "text/plain": [
       "['This is an NLP session.',\n",
       " 'This is an NLP session.',\n",
       " 'NLP is a nice area of research.',\n",
       " 'I am learning to analyze text data']"
      ]
     },
     "execution_count": 12,
     "metadata": {},
     "output_type": "execute_result"
    }
   ],
   "source": [
    "from nltk.tokenize import sent_tokenize\n",
    "sent_tokenize(text2)"
   ]
  },
  {
   "cell_type": "markdown",
   "id": "000e4df9",
   "metadata": {},
   "source": [
    "- sent_tokenization converts the entire paragraph into a single sentences\n",
    "- these single sentences are then called tokens"
   ]
  },
  {
   "cell_type": "code",
   "execution_count": 13,
   "id": "d8811caf",
   "metadata": {},
   "outputs": [
    {
     "data": {
      "text/plain": [
       "{'I am learning to analyze text data',\n",
       " 'NLP is a nice area of research.',\n",
       " 'This is an NLP session.'}"
      ]
     },
     "execution_count": 13,
     "metadata": {},
     "output_type": "execute_result"
    }
   ],
   "source": [
    "set(sent_tokenize(text2))"
   ]
  },
  {
   "cell_type": "code",
   "execution_count": null,
   "id": "96e88bb8",
   "metadata": {},
   "outputs": [],
   "source": []
  }
 ],
 "metadata": {
  "kernelspec": {
   "display_name": "Python 3 (ipykernel)",
   "language": "python",
   "name": "python3"
  },
  "language_info": {
   "codemirror_mode": {
    "name": "ipython",
    "version": 3
   },
   "file_extension": ".py",
   "mimetype": "text/x-python",
   "name": "python",
   "nbconvert_exporter": "python",
   "pygments_lexer": "ipython3",
   "version": "3.9.16"
  }
 },
 "nbformat": 4,
 "nbformat_minor": 5
}
