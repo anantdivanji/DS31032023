{
 "cells": [
  {
   "cell_type": "code",
   "execution_count": 1,
   "id": "453fc517",
   "metadata": {},
   "outputs": [],
   "source": [
    "import numpy as np\n",
    "import pandas as pd\n",
    "import matplotlib.pyplot as plt\n",
    "import seaborn as sns"
   ]
  },
  {
   "cell_type": "code",
   "execution_count": 2,
   "id": "244ba99d",
   "metadata": {},
   "outputs": [
    {
     "data": {
      "text/html": [
       "<div>\n",
       "<style scoped>\n",
       "    .dataframe tbody tr th:only-of-type {\n",
       "        vertical-align: middle;\n",
       "    }\n",
       "\n",
       "    .dataframe tbody tr th {\n",
       "        vertical-align: top;\n",
       "    }\n",
       "\n",
       "    .dataframe thead th {\n",
       "        text-align: right;\n",
       "    }\n",
       "</style>\n",
       "<table border=\"1\" class=\"dataframe\">\n",
       "  <thead>\n",
       "    <tr style=\"text-align: right;\">\n",
       "      <th></th>\n",
       "      <th>species</th>\n",
       "      <th>island</th>\n",
       "      <th>bill_length_mm</th>\n",
       "      <th>bill_depth_mm</th>\n",
       "      <th>flipper_length_mm</th>\n",
       "      <th>body_mass_g</th>\n",
       "      <th>sex</th>\n",
       "    </tr>\n",
       "  </thead>\n",
       "  <tbody>\n",
       "    <tr>\n",
       "      <th>0</th>\n",
       "      <td>Adelie</td>\n",
       "      <td>Torgersen</td>\n",
       "      <td>39.1</td>\n",
       "      <td>18.7</td>\n",
       "      <td>181.0</td>\n",
       "      <td>3750.0</td>\n",
       "      <td>male</td>\n",
       "    </tr>\n",
       "    <tr>\n",
       "      <th>1</th>\n",
       "      <td>Adelie</td>\n",
       "      <td>Torgersen</td>\n",
       "      <td>39.5</td>\n",
       "      <td>17.4</td>\n",
       "      <td>186.0</td>\n",
       "      <td>3800.0</td>\n",
       "      <td>female</td>\n",
       "    </tr>\n",
       "    <tr>\n",
       "      <th>2</th>\n",
       "      <td>Adelie</td>\n",
       "      <td>Torgersen</td>\n",
       "      <td>40.3</td>\n",
       "      <td>18.0</td>\n",
       "      <td>195.0</td>\n",
       "      <td>3250.0</td>\n",
       "      <td>female</td>\n",
       "    </tr>\n",
       "    <tr>\n",
       "      <th>3</th>\n",
       "      <td>Adelie</td>\n",
       "      <td>Torgersen</td>\n",
       "      <td>NaN</td>\n",
       "      <td>NaN</td>\n",
       "      <td>NaN</td>\n",
       "      <td>NaN</td>\n",
       "      <td>NaN</td>\n",
       "    </tr>\n",
       "    <tr>\n",
       "      <th>4</th>\n",
       "      <td>Adelie</td>\n",
       "      <td>Torgersen</td>\n",
       "      <td>36.7</td>\n",
       "      <td>19.3</td>\n",
       "      <td>193.0</td>\n",
       "      <td>3450.0</td>\n",
       "      <td>female</td>\n",
       "    </tr>\n",
       "  </tbody>\n",
       "</table>\n",
       "</div>"
      ],
      "text/plain": [
       "  species     island  bill_length_mm  bill_depth_mm  flipper_length_mm  \\\n",
       "0  Adelie  Torgersen            39.1           18.7              181.0   \n",
       "1  Adelie  Torgersen            39.5           17.4              186.0   \n",
       "2  Adelie  Torgersen            40.3           18.0              195.0   \n",
       "3  Adelie  Torgersen             NaN            NaN                NaN   \n",
       "4  Adelie  Torgersen            36.7           19.3              193.0   \n",
       "\n",
       "   body_mass_g     sex  \n",
       "0       3750.0    male  \n",
       "1       3800.0  female  \n",
       "2       3250.0  female  \n",
       "3          NaN     NaN  \n",
       "4       3450.0  female  "
      ]
     },
     "execution_count": 2,
     "metadata": {},
     "output_type": "execute_result"
    }
   ],
   "source": [
    "data = pd.read_csv('penguins.csv')\n",
    "data.head()"
   ]
  },
  {
   "cell_type": "code",
   "execution_count": 3,
   "id": "e2421431",
   "metadata": {},
   "outputs": [
    {
     "name": "stdout",
     "output_type": "stream",
     "text": [
      "<class 'pandas.core.frame.DataFrame'>\n",
      "RangeIndex: 344 entries, 0 to 343\n",
      "Data columns (total 7 columns):\n",
      " #   Column             Non-Null Count  Dtype  \n",
      "---  ------             --------------  -----  \n",
      " 0   species            344 non-null    object \n",
      " 1   island             344 non-null    object \n",
      " 2   bill_length_mm     342 non-null    float64\n",
      " 3   bill_depth_mm      342 non-null    float64\n",
      " 4   flipper_length_mm  342 non-null    float64\n",
      " 5   body_mass_g        342 non-null    float64\n",
      " 6   sex                333 non-null    object \n",
      "dtypes: float64(4), object(3)\n",
      "memory usage: 18.9+ KB\n"
     ]
    }
   ],
   "source": [
    "data.info()"
   ]
  },
  {
   "cell_type": "code",
   "execution_count": 4,
   "id": "7092fa38",
   "metadata": {},
   "outputs": [
    {
     "data": {
      "text/plain": [
       "Adelie       152\n",
       "Gentoo       124\n",
       "Chinstrap     68\n",
       "Name: species, dtype: int64"
      ]
     },
     "execution_count": 4,
     "metadata": {},
     "output_type": "execute_result"
    }
   ],
   "source": [
    "## target analysis\n",
    "\n",
    "data['species'].value_counts()"
   ]
  },
  {
   "cell_type": "code",
   "execution_count": 5,
   "id": "3b22577f",
   "metadata": {},
   "outputs": [
    {
     "data": {
      "text/plain": [
       "species               0\n",
       "island                0\n",
       "bill_length_mm        2\n",
       "bill_depth_mm         2\n",
       "flipper_length_mm     2\n",
       "body_mass_g           2\n",
       "sex                  11\n",
       "dtype: int64"
      ]
     },
     "execution_count": 5,
     "metadata": {},
     "output_type": "execute_result"
    }
   ],
   "source": [
    "## Missing value Analysis\n",
    "\n",
    "data.isnull().sum()"
   ]
  },
  {
   "cell_type": "code",
   "execution_count": 7,
   "id": "d55be0d8",
   "metadata": {},
   "outputs": [],
   "source": [
    "## Missing Value Imputation\n",
    "\n",
    "for column_name in data.select_dtypes(include='float',exclude='object'):\n",
    "    data.loc[:,column_name].fillna(data.loc[:,column_name].mean(),axis=0,inplace=True)"
   ]
  },
  {
   "cell_type": "code",
   "execution_count": 8,
   "id": "573bbc4f",
   "metadata": {},
   "outputs": [
    {
     "data": {
      "text/plain": [
       "species               0\n",
       "island                0\n",
       "bill_length_mm        0\n",
       "bill_depth_mm         0\n",
       "flipper_length_mm     0\n",
       "body_mass_g           0\n",
       "sex                  11\n",
       "dtype: int64"
      ]
     },
     "execution_count": 8,
     "metadata": {},
     "output_type": "execute_result"
    }
   ],
   "source": [
    "data.isnull().sum()"
   ]
  },
  {
   "cell_type": "code",
   "execution_count": 9,
   "id": "a5108443",
   "metadata": {},
   "outputs": [
    {
     "data": {
      "text/plain": [
       "species              0\n",
       "island               0\n",
       "bill_length_mm       0\n",
       "bill_depth_mm        0\n",
       "flipper_length_mm    0\n",
       "body_mass_g          0\n",
       "sex                  0\n",
       "dtype: int64"
      ]
     },
     "execution_count": 9,
     "metadata": {},
     "output_type": "execute_result"
    }
   ],
   "source": [
    "data['sex'].fillna(method ='ffill', inplace = True)\n",
    "data.isnull().sum()"
   ]
  },
  {
   "cell_type": "code",
   "execution_count": 10,
   "id": "e40ab44e",
   "metadata": {},
   "outputs": [
    {
     "data": {
      "text/plain": [
       "<Axes: xlabel='bill_length_mm', ylabel='bill_depth_mm'>"
      ]
     },
     "execution_count": 10,
     "metadata": {},
     "output_type": "execute_result"
    },
    {
     "data": {
      "image/png": "[encoded data removed]",
      "text/plain": [
       "<Figure size 640x480 with 1 Axes>"
      ]
     },
     "metadata": {},
     "output_type": "display_data"
    }
   ],
   "source": [
    "sns.scatterplot(x='bill_length_mm',y='bill_depth_mm',hue='species',data=data ,style='species')"
   ]
  },
  {
   "cell_type": "markdown",
   "id": "465279ad",
   "metadata": {},
   "source": [
    "## Observations:\n",
    "- Bill_length_mm and bill_depth_mm are the differentiating factor for the species in pengunis\n",
    "- bill_length_mm < 16 the speices belongs to Gentoo.\n",
    "- bill_depth_mm < 40 the species belongs to Adelie\n",
    "- bill_length_mm > 45 and bill_depth_mm > 16 the species belongs to Chinstrap\n",
    "\n",
    "We can say that, to identify the penguins species we can use bill_length and bill_depth.\n"
   ]
  },
  {
   "cell_type": "code",
   "execution_count": 15,
   "id": "24359c87",
   "metadata": {},
   "outputs": [],
   "source": [
    "## Performing Label Encoding on sex and island colums\n",
    "\n",
    "from sklearn.preprocessing import LabelEncoder\n",
    "\n",
    "for col in data[['sex','island']]:\n",
    "    data[col] = LabelEncoder().fit_transform(data[col])"
   ]
  },
  {
   "cell_type": "code",
   "execution_count": 16,
   "id": "3417c08d",
   "metadata": {},
   "outputs": [
    {
     "data": {
      "text/html": [
       "<div>\n",
       "<style scoped>\n",
       "    .dataframe tbody tr th:only-of-type {\n",
       "        vertical-align: middle;\n",
       "    }\n",
       "\n",
       "    .dataframe tbody tr th {\n",
       "        vertical-align: top;\n",
       "    }\n",
       "\n",
       "    .dataframe thead th {\n",
       "        text-align: right;\n",
       "    }\n",
       "</style>\n",
       "<table border=\"1\" class=\"dataframe\">\n",
       "  <thead>\n",
       "    <tr style=\"text-align: right;\">\n",
       "      <th></th>\n",
       "      <th>species</th>\n",
       "      <th>island</th>\n",
       "      <th>bill_length_mm</th>\n",
       "      <th>bill_depth_mm</th>\n",
       "      <th>flipper_length_mm</th>\n",
       "      <th>body_mass_g</th>\n",
       "      <th>sex</th>\n",
       "    </tr>\n",
       "  </thead>\n",
       "  <tbody>\n",
       "    <tr>\n",
       "      <th>0</th>\n",
       "      <td>Adelie</td>\n",
       "      <td>2</td>\n",
       "      <td>39.10000</td>\n",
       "      <td>18.70000</td>\n",
       "      <td>181.000000</td>\n",
       "      <td>3750.000000</td>\n",
       "      <td>1</td>\n",
       "    </tr>\n",
       "    <tr>\n",
       "      <th>1</th>\n",
       "      <td>Adelie</td>\n",
       "      <td>2</td>\n",
       "      <td>39.50000</td>\n",
       "      <td>17.40000</td>\n",
       "      <td>186.000000</td>\n",
       "      <td>3800.000000</td>\n",
       "      <td>0</td>\n",
       "    </tr>\n",
       "    <tr>\n",
       "      <th>2</th>\n",
       "      <td>Adelie</td>\n",
       "      <td>2</td>\n",
       "      <td>40.30000</td>\n",
       "      <td>18.00000</td>\n",
       "      <td>195.000000</td>\n",
       "      <td>3250.000000</td>\n",
       "      <td>0</td>\n",
       "    </tr>\n",
       "    <tr>\n",
       "      <th>3</th>\n",
       "      <td>Adelie</td>\n",
       "      <td>2</td>\n",
       "      <td>43.92193</td>\n",
       "      <td>17.15117</td>\n",
       "      <td>200.915205</td>\n",
       "      <td>4201.754386</td>\n",
       "      <td>0</td>\n",
       "    </tr>\n",
       "    <tr>\n",
       "      <th>4</th>\n",
       "      <td>Adelie</td>\n",
       "      <td>2</td>\n",
       "      <td>36.70000</td>\n",
       "      <td>19.30000</td>\n",
       "      <td>193.000000</td>\n",
       "      <td>3450.000000</td>\n",
       "      <td>0</td>\n",
       "    </tr>\n",
       "  </tbody>\n",
       "</table>\n",
       "</div>"
      ],
      "text/plain": [
       "  species  island  bill_length_mm  bill_depth_mm  flipper_length_mm  \\\n",
       "0  Adelie       2        39.10000       18.70000         181.000000   \n",
       "1  Adelie       2        39.50000       17.40000         186.000000   \n",
       "2  Adelie       2        40.30000       18.00000         195.000000   \n",
       "3  Adelie       2        43.92193       17.15117         200.915205   \n",
       "4  Adelie       2        36.70000       19.30000         193.000000   \n",
       "\n",
       "   body_mass_g  sex  \n",
       "0  3750.000000    1  \n",
       "1  3800.000000    0  \n",
       "2  3250.000000    0  \n",
       "3  4201.754386    0  \n",
       "4  3450.000000    0  "
      ]
     },
     "execution_count": 16,
     "metadata": {},
     "output_type": "execute_result"
    }
   ],
   "source": [
    "data.head()"
   ]
  },
  {
   "cell_type": "code",
   "execution_count": 17,
   "id": "5207e4f4",
   "metadata": {},
   "outputs": [],
   "source": [
    "## Performing Feature Scaling on bill_length, bill_depth, flipper_length, body_mass columns\n",
    "\n",
    "from sklearn.preprocessing import StandardScaler\n",
    "\n",
    "for col in data[['bill_length_mm','bill_depth_mm','flipper_length_mm','body_mass_g']]:\n",
    "    data[col] = StandardScaler().fit_transform(data[[col]])"
   ]
  },
  {
   "cell_type": "code",
   "execution_count": 18,
   "id": "477dc936",
   "metadata": {},
   "outputs": [
    {
     "data": {
      "text/html": [
       "<div>\n",
       "<style scoped>\n",
       "    .dataframe tbody tr th:only-of-type {\n",
       "        vertical-align: middle;\n",
       "    }\n",
       "\n",
       "    .dataframe tbody tr th {\n",
       "        vertical-align: top;\n",
       "    }\n",
       "\n",
       "    .dataframe thead th {\n",
       "        text-align: right;\n",
       "    }\n",
       "</style>\n",
       "<table border=\"1\" class=\"dataframe\">\n",
       "  <thead>\n",
       "    <tr style=\"text-align: right;\">\n",
       "      <th></th>\n",
       "      <th>species</th>\n",
       "      <th>island</th>\n",
       "      <th>bill_length_mm</th>\n",
       "      <th>bill_depth_mm</th>\n",
       "      <th>flipper_length_mm</th>\n",
       "      <th>body_mass_g</th>\n",
       "      <th>sex</th>\n",
       "    </tr>\n",
       "  </thead>\n",
       "  <tbody>\n",
       "    <tr>\n",
       "      <th>0</th>\n",
       "      <td>Adelie</td>\n",
       "      <td>2</td>\n",
       "      <td>-8.870812e-01</td>\n",
       "      <td>0.787743</td>\n",
       "      <td>-1.422488</td>\n",
       "      <td>-0.565789</td>\n",
       "      <td>1</td>\n",
       "    </tr>\n",
       "    <tr>\n",
       "      <th>1</th>\n",
       "      <td>Adelie</td>\n",
       "      <td>2</td>\n",
       "      <td>-8.134940e-01</td>\n",
       "      <td>0.126556</td>\n",
       "      <td>-1.065352</td>\n",
       "      <td>-0.503168</td>\n",
       "      <td>0</td>\n",
       "    </tr>\n",
       "    <tr>\n",
       "      <th>2</th>\n",
       "      <td>Adelie</td>\n",
       "      <td>2</td>\n",
       "      <td>-6.663195e-01</td>\n",
       "      <td>0.431719</td>\n",
       "      <td>-0.422507</td>\n",
       "      <td>-1.192003</td>\n",
       "      <td>0</td>\n",
       "    </tr>\n",
       "    <tr>\n",
       "      <th>3</th>\n",
       "      <td>Adelie</td>\n",
       "      <td>2</td>\n",
       "      <td>-1.307172e-15</td>\n",
       "      <td>0.000000</td>\n",
       "      <td>0.000000</td>\n",
       "      <td>0.000000</td>\n",
       "      <td>0</td>\n",
       "    </tr>\n",
       "    <tr>\n",
       "      <th>4</th>\n",
       "      <td>Adelie</td>\n",
       "      <td>2</td>\n",
       "      <td>-1.328605e+00</td>\n",
       "      <td>1.092905</td>\n",
       "      <td>-0.565361</td>\n",
       "      <td>-0.941517</td>\n",
       "      <td>0</td>\n",
       "    </tr>\n",
       "  </tbody>\n",
       "</table>\n",
       "</div>"
      ],
      "text/plain": [
       "  species  island  bill_length_mm  bill_depth_mm  flipper_length_mm  \\\n",
       "0  Adelie       2   -8.870812e-01       0.787743          -1.422488   \n",
       "1  Adelie       2   -8.134940e-01       0.126556          -1.065352   \n",
       "2  Adelie       2   -6.663195e-01       0.431719          -0.422507   \n",
       "3  Adelie       2   -1.307172e-15       0.000000           0.000000   \n",
       "4  Adelie       2   -1.328605e+00       1.092905          -0.565361   \n",
       "\n",
       "   body_mass_g  sex  \n",
       "0    -0.565789    1  \n",
       "1    -0.503168    0  \n",
       "2    -1.192003    0  \n",
       "3     0.000000    0  \n",
       "4    -0.941517    0  "
      ]
     },
     "execution_count": 18,
     "metadata": {},
     "output_type": "execute_result"
    }
   ],
   "source": [
    "data.head()"
   ]
  },
  {
   "cell_type": "code",
   "execution_count": 21,
   "id": "aee737ab",
   "metadata": {},
   "outputs": [],
   "source": [
    "## Seperate X and y\n",
    "\n",
    "X = data.drop('species',axis=1)\n",
    "y = data['species']"
   ]
  },
  {
   "cell_type": "markdown",
   "id": "0e7f352c",
   "metadata": {},
   "source": [
    "### PCA to derive new set of features from the available features"
   ]
  },
  {
   "cell_type": "code",
   "execution_count": 33,
   "id": "a468e6a8",
   "metadata": {},
   "outputs": [],
   "source": [
    "## Applying PCA on the data to reduce the number of features in the data\n",
    "\n",
    "from sklearn.decomposition import PCA\n",
    "\n",
    "PCA_TR = PCA(n_components=3)\n",
    "X_pca = PCA_TR.fit_transform(X)"
   ]
  },
  {
   "cell_type": "code",
   "execution_count": 23,
   "id": "359b3762",
   "metadata": {},
   "outputs": [
    {
     "data": {
      "text/plain": [
       "array([0.62557653, 0.19138465, 0.08540069])"
      ]
     },
     "execution_count": 23,
     "metadata": {},
     "output_type": "execute_result"
    }
   ],
   "source": [
    "PCA_TR.explained_variance_ratio_"
   ]
  },
  {
   "cell_type": "markdown",
   "id": "e5b02af0",
   "metadata": {},
   "source": [
    "- 'explained_variance_ratio_' gives percentage of weighted new features that impact label"
   ]
  },
  {
   "cell_type": "code",
   "execution_count": 24,
   "id": "77fd2b58",
   "metadata": {},
   "outputs": [
    {
     "data": {
      "text/plain": [
       "array([[-0.28702173,  0.42706304, -0.39057771,  0.54921404,  0.52631458,\n",
       "         0.06357387],\n",
       "       [ 0.22442878,  0.5059585 ,  0.72698625,  0.04997141,  0.15418415,\n",
       "         0.37263765],\n",
       "       [ 0.0815501 ,  0.72944557, -0.24461252, -0.16470963, -0.51768431,\n",
       "        -0.32603242]])"
      ]
     },
     "execution_count": 24,
     "metadata": {},
     "output_type": "execute_result"
    }
   ],
   "source": [
    "PCA_TR.components_"
   ]
  },
  {
   "cell_type": "code",
   "execution_count": 25,
   "id": "30c0de72",
   "metadata": {},
   "outputs": [
    {
     "data": {
      "text/html": [
       "<div>\n",
       "<style scoped>\n",
       "    .dataframe tbody tr th:only-of-type {\n",
       "        vertical-align: middle;\n",
       "    }\n",
       "\n",
       "    .dataframe tbody tr th {\n",
       "        vertical-align: top;\n",
       "    }\n",
       "\n",
       "    .dataframe thead th {\n",
       "        text-align: right;\n",
       "    }\n",
       "</style>\n",
       "<table border=\"1\" class=\"dataframe\">\n",
       "  <thead>\n",
       "    <tr style=\"text-align: right;\">\n",
       "      <th></th>\n",
       "      <th>island</th>\n",
       "      <th>bill_length_mm</th>\n",
       "      <th>bill_depth_mm</th>\n",
       "      <th>flipper_length_mm</th>\n",
       "      <th>body_mass_g</th>\n",
       "      <th>sex</th>\n",
       "    </tr>\n",
       "  </thead>\n",
       "  <tbody>\n",
       "    <tr>\n",
       "      <th>PC-1</th>\n",
       "      <td>-0.287022</td>\n",
       "      <td>0.427063</td>\n",
       "      <td>-0.390578</td>\n",
       "      <td>0.549214</td>\n",
       "      <td>0.526315</td>\n",
       "      <td>0.063574</td>\n",
       "    </tr>\n",
       "    <tr>\n",
       "      <th>PC-2</th>\n",
       "      <td>0.224429</td>\n",
       "      <td>0.505959</td>\n",
       "      <td>0.726986</td>\n",
       "      <td>0.049971</td>\n",
       "      <td>0.154184</td>\n",
       "      <td>0.372638</td>\n",
       "    </tr>\n",
       "    <tr>\n",
       "      <th>PC-3</th>\n",
       "      <td>0.081550</td>\n",
       "      <td>0.729446</td>\n",
       "      <td>-0.244613</td>\n",
       "      <td>-0.164710</td>\n",
       "      <td>-0.517684</td>\n",
       "      <td>-0.326032</td>\n",
       "    </tr>\n",
       "  </tbody>\n",
       "</table>\n",
       "</div>"
      ],
      "text/plain": [
       "        island  bill_length_mm  bill_depth_mm  flipper_length_mm  body_mass_g  \\\n",
       "PC-1 -0.287022        0.427063      -0.390578           0.549214     0.526315   \n",
       "PC-2  0.224429        0.505959       0.726986           0.049971     0.154184   \n",
       "PC-3  0.081550        0.729446      -0.244613          -0.164710    -0.517684   \n",
       "\n",
       "           sex  \n",
       "PC-1  0.063574  \n",
       "PC-2  0.372638  \n",
       "PC-3 -0.326032  "
      ]
     },
     "execution_count": 25,
     "metadata": {},
     "output_type": "execute_result"
    }
   ],
   "source": [
    "pd.DataFrame(PCA_TR.components_,columns=X.columns,index = ['PC-1','PC-2','PC-3'])"
   ]
  },
  {
   "cell_type": "code",
   "execution_count": 38,
   "id": "43c747c2",
   "metadata": {},
   "outputs": [],
   "source": [
    "from sklearn.model_selection import StratifiedKFold,cross_val_score\n",
    "from sklearn.linear_model import LogisticRegression\n",
    "from sklearn.tree import DecisionTreeClassifier\n",
    "from sklearn.ensemble import RandomForestClassifier\n",
    "from sklearn.neighbors import KNeighborsClassifier\n",
    "from sklearn.naive_bayes import GaussianNB\n",
    "from sklearn.svm import SVC\n",
    "\n",
    "LRM = LogisticRegression()\n",
    "DTC = DecisionTreeClassifier()\n",
    "RFC = RandomForestClassifier()\n",
    "KNC = KNeighborsClassifier()\n",
    "NBC = GaussianNB()\n",
    "SVC = SVC()"
   ]
  },
  {
   "cell_type": "code",
   "execution_count": 27,
   "id": "2e18b483",
   "metadata": {},
   "outputs": [],
   "source": [
    "SKF = StratifiedKFold(n_splits = 10, shuffle =True, random_state=10)"
   ]
  },
  {
   "cell_type": "code",
   "execution_count": 39,
   "id": "c802bd0b",
   "metadata": {},
   "outputs": [
    {
     "name": "stdout",
     "output_type": "stream",
     "text": [
      "LogisticRegression : 99.13%\n",
      "DecisionTreeClassifier : 97.96%\n",
      "RandomForestClassifier : 98.55%\n",
      "KNeighborsClassifier : 98.83%\n",
      "GaussianNB : 98.25%\n",
      "Support Vector Machine : 98.55%\n"
     ]
    }
   ],
   "source": [
    "print(f'LogisticRegression : {round(cross_val_score(LRM,X_pca,y,cv=SKF,scoring=\"accuracy\").mean()*100,2)}%')\n",
    "print(f'DecisionTreeClassifier : {round(cross_val_score(DTC,X_pca,y,cv=SKF,scoring=\"accuracy\").mean()*100,2)}%')\n",
    "print(f'RandomForestClassifier : {round(cross_val_score(RFC,X_pca,y,cv=SKF,scoring=\"accuracy\").mean()*100,2)}%')\n",
    "print(f'KNeighborsClassifier : {round(cross_val_score(KNC,X_pca,y,cv=SKF,scoring=\"accuracy\").mean()*100,2)}%')\n",
    "print(f'GaussianNB : {round(cross_val_score(NBC,X_pca,y,cv=SKF,scoring=\"accuracy\").mean()*100,2)}%')\n",
    "print(f'Support Vector Machine : {round(cross_val_score(SVC,X_pca,y,cv=SKF,scoring=\"accuracy\").mean()*100,2)}%')"
   ]
  },
  {
   "cell_type": "markdown",
   "id": "4f678cc3",
   "metadata": {},
   "source": [
    "## Observations:\n",
    "\n",
    "- Logistic Regression best fits the data compared to other classification algorithms with 99.13% mean accuracy"
   ]
  },
  {
   "cell_type": "code",
   "execution_count": 30,
   "id": "032d2cba",
   "metadata": {},
   "outputs": [
    {
     "data": {
      "text/plain": [
       "array([0.97142857, 1.        , 0.97142857, 1.        , 0.97058824,\n",
       "       1.        , 1.        , 1.        , 1.        , 1.        ])"
      ]
     },
     "execution_count": 30,
     "metadata": {},
     "output_type": "execute_result"
    }
   ],
   "source": [
    "from sklearn.model_selection import cross_val_score\n",
    "cross_val_score(LRM, X_train, y, cv = 10)"
   ]
  },
  {
   "cell_type": "code",
   "execution_count": 32,
   "id": "c9adf562",
   "metadata": {},
   "outputs": [
    {
     "data": {
      "text/plain": [
       "99.13"
      ]
     },
     "execution_count": 32,
     "metadata": {},
     "output_type": "execute_result"
    }
   ],
   "source": [
    "round(cross_val_score(LRM, X_train, y, cv = 10).mean() * 100, 2)"
   ]
  },
  {
   "cell_type": "code",
   "execution_count": null,
   "id": "b6449577",
   "metadata": {},
   "outputs": [],
   "source": []
  },
  {
   "cell_type": "code",
   "execution_count": null,
   "id": "67e9ab5a",
   "metadata": {},
   "outputs": [],
   "source": []
  }
 ],
 "metadata": {
  "kernelspec": {
   "display_name": "Python 3 (ipykernel)",
   "language": "python",
   "name": "python3"
  },
  "language_info": {
   "codemirror_mode": {
    "name": "ipython",
    "version": 3
   },
   "file_extension": ".py",
   "mimetype": "text/x-python",
   "name": "python",
   "nbconvert_exporter": "python",
   "pygments_lexer": "ipython3",
   "version": "3.9.16"
  }
 },
 "nbformat": 4,
 "nbformat_minor": 5
}
