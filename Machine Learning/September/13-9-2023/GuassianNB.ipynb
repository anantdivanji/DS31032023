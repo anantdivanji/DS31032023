{
 "cells": [
  {
   "cell_type": "markdown",
   "id": "29b07717",
   "metadata": {},
   "source": [
    "## Task: Apply Guassian NB Algorithm on the breast cancer data.\n",
    "- The data can be downloaded from the github link shared in chat"
   ]
  },
  {
   "cell_type": "code",
   "execution_count": null,
   "id": "62022ae4",
   "metadata": {},
   "outputs": [],
   "source": []
  }
 ],
 "metadata": {
  "kernelspec": {
   "display_name": "Python 3 (ipykernel)",
   "language": "python",
   "name": "python3"
  },
  "language_info": {
   "codemirror_mode": {
    "name": "ipython",
    "version": 3
   },
   "file_extension": ".py",
   "mimetype": "text/x-python",
   "name": "python",
   "nbconvert_exporter": "python",
   "pygments_lexer": "ipython3",
   "version": "3.9.16"
  }
 },
 "nbformat": 4,
 "nbformat_minor": 5
}
